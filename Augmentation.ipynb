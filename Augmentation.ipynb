{
  "nbformat": 4,
  "nbformat_minor": 0,
  "metadata": {
    "colab": {
      "name": "vizOfAutoencoders.ipynb",
      "provenance": [],
      "collapsed_sections": []
    },
    "kernelspec": {
      "name": "python3",
      "display_name": "Python 3"
    },
    "accelerator": "TPU"
  },
  "cells": [
    {
      "cell_type": "code",
      "metadata": {
        "id": "ByOzJo4-Kq2u",
        "colab_type": "code",
        "outputId": "279cf87a-ca9f-4c8e-cea4-0946c5ca38b4",
        "colab": {
          "base_uri": "https://localhost:8080/",
          "height": 34
        }
      },
      "source": [
        "from __future__ import print_function\n",
        "import os\n",
        "import  numpy  as  np\n",
        "import matplotlib.pyplot as plt\n",
        "\n",
        "import keras\n",
        "from keras.datasets import cifar10\n",
        "from keras.preprocessing.image import ImageDataGenerator\n",
        "from keras.models import Sequential\n",
        "from keras.layers import Dense, Dropout, Activation, Flatten\n",
        "from keras.layers import Conv2D, MaxPooling2D\n",
        "from keras.layers import *\n",
        "\n",
        "from keras.applications.vgg16 import VGG16\n",
        "from keras.preprocessing import image\n",
        "from keras.applications.vgg16 import preprocess_input\n",
        "from keras import backend as K"
      ],
      "execution_count": 0,
      "outputs": [
        {
          "output_type": "stream",
          "text": [
            "Using TensorFlow backend.\n"
          ],
          "name": "stderr"
        }
      ]
    },
    {
      "cell_type": "markdown",
      "metadata": {
        "id": "o_h-T1pgnjyK",
        "colab_type": "text"
      },
      "source": [
        "**Coco DataSet Extraction**"
      ]
    },
    {
      "cell_type": "code",
      "metadata": {
        "id": "hpuI06X0nix6",
        "colab_type": "code",
        "colab": {}
      },
      "source": [
        "import tensorflow as tf\n",
        "import matplotlib.pyplot as plt\n",
        "from sklearn.model_selection import train_test_split\n",
        "from sklearn.utils import shuffle\n",
        "import re\n",
        "import numpy as np\n",
        "import os\n",
        "import time\n",
        "import json\n",
        "from glob import glob\n",
        "from PIL import Image\n",
        "import pickle\n",
        "\n",
        "import os\n",
        "import json\n",
        "from collections import defaultdict\n",
        "from pycocotools.coco import COCO\n",
        "from tqdm import tqdm\n",
        "from shutil import copyfile\n",
        "import csv\n",
        "\n",
        "from keras.applications.vgg16 import VGG16\n",
        "from keras.models import Model\n"
      ],
      "execution_count": 0,
      "outputs": []
    },
    {
      "cell_type": "markdown",
      "metadata": {
        "id": "F0TB6eKRY7Ig",
        "colab_type": "text"
      },
      "source": [
        "# Visualization of Layers"
      ]
    },
    {
      "cell_type": "code",
      "metadata": {
        "id": "mzLEl62R2kzS",
        "colab_type": "code",
        "outputId": "b833065d-4ade-420e-fc04-de10de504b37",
        "colab": {
          "base_uri": "https://localhost:8080/",
          "height": 235
        }
      },
      "source": [
        "for layer in model.layers:\n",
        "\t# check for convolutional layer\n",
        "\tif 'conv' not in layer.name:\n",
        "\t\tcontinue\n",
        "\t# get filter weights\n",
        "\tfilters, biases = layer.get_weights()\n",
        "\tprint(layer.name, filters.shape,biases.shape)"
      ],
      "execution_count": 0,
      "outputs": [
        {
          "output_type": "stream",
          "text": [
            "block1_conv1 (3, 3, 3, 64) (64,)\n",
            "block1_conv2 (3, 3, 64, 64) (64,)\n",
            "block2_conv1 (3, 3, 64, 128) (128,)\n",
            "block2_conv2 (3, 3, 128, 128) (128,)\n",
            "block3_conv1 (3, 3, 128, 256) (256,)\n",
            "block3_conv2 (3, 3, 256, 256) (256,)\n",
            "block3_conv3 (3, 3, 256, 256) (256,)\n",
            "block4_conv1 (3, 3, 256, 512) (512,)\n",
            "block4_conv2 (3, 3, 512, 512) (512,)\n",
            "block4_conv3 (3, 3, 512, 512) (512,)\n",
            "block5_conv1 (3, 3, 512, 512) (512,)\n",
            "block5_conv2 (3, 3, 512, 512) (512,)\n",
            "block5_conv3 (3, 3, 512, 512) (512,)\n"
          ],
          "name": "stdout"
        }
      ]
    },
    {
      "cell_type": "code",
      "metadata": {
        "id": "qnMUwMHE21Wu",
        "colab_type": "code",
        "outputId": "abfece64-315b-411f-d03d-b8808b8ae6ac",
        "colab": {
          "base_uri": "https://localhost:8080/",
          "height": 34
        }
      },
      "source": [
        "# retrieve weights from the second hidden layer\n",
        "filters, biases = model.layers[1].get_weights()\n",
        "filters.shape,biases.shape"
      ],
      "execution_count": 0,
      "outputs": [
        {
          "output_type": "execute_result",
          "data": {
            "text/plain": [
              "((3, 3, 3, 64), (64,))"
            ]
          },
          "metadata": {
            "tags": []
          },
          "execution_count": 98
        }
      ]
    },
    {
      "cell_type": "code",
      "metadata": {
        "id": "CwEO6gBS3OTa",
        "colab_type": "code",
        "colab": {}
      },
      "source": [
        "# normalize filter values to 0-1 so we can visualize them\n",
        "f_min, f_max = filters.min(), filters.max()\n",
        "filters = (filters - f_min) / (f_max - f_min)"
      ],
      "execution_count": 0,
      "outputs": []
    },
    {
      "cell_type": "code",
      "metadata": {
        "id": "UCfwB04J3R0P",
        "colab_type": "code",
        "outputId": "ec5d2ea6-b710-4485-9c87-7caeaea888cd",
        "colab": {
          "base_uri": "https://localhost:8080/",
          "height": 252
        }
      },
      "source": [
        "from matplotlib import pyplot\n",
        "\n",
        "# plot first few filters\n",
        "n_filters, ix = 6, 1\n",
        "for i in range(n_filters):\n",
        "\t# get the filter\n",
        "\tf = filters[:, :, :, i]\n",
        "\t# plot each channel separately\n",
        "\tfor j in range(3):\n",
        "\t\t# specify subplot and turn of axis\n",
        "\t\tax = pyplot.subplot(n_filters, 3, ix)\n",
        "\t\tax.set_xticks([])\n",
        "\t\tax.set_yticks([])\n",
        "\t\t# plot filter channel in grayscale\n",
        "\t\tpyplot.imshow(f[:, :, j], cmap='gray')\n",
        "\t\tix += 1\n",
        "# show the figure\n",
        "pyplot.show()"
      ],
      "execution_count": 0,
      "outputs": [
        {
          "output_type": "display_data",
          "data": {
            "image/png": "[encoded data removed]",
            "text/plain": [
              "<Figure size 432x288 with 18 Axes>"
            ]
          },
          "metadata": {
            "tags": []
          }
        }
      ]
    },
    {
      "cell_type": "code",
      "metadata": {
        "id": "GchfyU3q6AUC",
        "colab_type": "code",
        "colab": {}
      },
      "source": [
        "from pydrive.auth import GoogleAuth\n",
        "from pydrive.drive import GoogleDrive\n",
        "from google.colab import auth\n",
        "from oauth2client.client import GoogleCredentials\n",
        "import zipfile\n",
        "import os\n",
        "\n",
        "# Authenticate and create the PyDrive client.\n",
        "auth.authenticate_user()\n",
        "gauth = GoogleAuth()\n",
        "gauth.credentials = GoogleCredentials.get_application_default()\n",
        "drive = GoogleDrive(gauth)\n",
        "\n",
        "link  = 'https://drive.google.com/open?id=12iTCBVkRw82Zs53r_0aUpQ68XsM4nShJ'\n",
        "fluff, id = link.split('=')\n",
        "downloaded = drive.CreateFile({'id':id}) \n",
        "downloaded.GetContentFile('bird.jpg') "
      ],
      "execution_count": 0,
      "outputs": []
    },
    {
      "cell_type": "code",
      "metadata": {
        "id": "LnNogwdl3hio",
        "colab_type": "code",
        "outputId": "63477d9b-8c55-4062-e783-0d169582f062",
        "colab": {
          "base_uri": "https://localhost:8080/",
          "height": 235
        }
      },
      "source": [
        "for i in range(len(model.layers)):\n",
        "\tlayer = model.layers[i]\n",
        "\t# check for convolutional layer\n",
        "\tif 'conv' not in layer.name:\n",
        "\t\tcontinue\n",
        "\t# summarize output shape\n",
        "\tprint(i, layer.name, layer.output.shape)"
      ],
      "execution_count": 0,
      "outputs": [
        {
          "output_type": "stream",
          "text": [
            "1 block1_conv1 (None, 224, 224, 64)\n",
            "2 block1_conv2 (None, 224, 224, 64)\n",
            "4 block2_conv1 (None, 112, 112, 128)\n",
            "5 block2_conv2 (None, 112, 112, 128)\n",
            "7 block3_conv1 (None, 56, 56, 256)\n",
            "8 block3_conv2 (None, 56, 56, 256)\n",
            "9 block3_conv3 (None, 56, 56, 256)\n",
            "11 block4_conv1 (None, 28, 28, 512)\n",
            "12 block4_conv2 (None, 28, 28, 512)\n",
            "13 block4_conv3 (None, 28, 28, 512)\n",
            "15 block5_conv1 (None, 14, 14, 512)\n",
            "16 block5_conv2 (None, 14, 14, 512)\n",
            "17 block5_conv3 (None, 14, 14, 512)\n"
          ],
          "name": "stdout"
        }
      ]
    },
    {
      "cell_type": "code",
      "metadata": {
        "id": "lcgH8x814jI4",
        "colab_type": "code",
        "outputId": "c537e58f-9236-4c38-b427-2576df3c53c4",
        "colab": {
          "base_uri": "https://localhost:8080/",
          "height": 34
        }
      },
      "source": [
        "len(model.layers)"
      ],
      "execution_count": 0,
      "outputs": [
        {
          "output_type": "execute_result",
          "data": {
            "text/plain": [
              "23"
            ]
          },
          "metadata": {
            "tags": []
          },
          "execution_count": 81
        }
      ]
    },
    {
      "cell_type": "code",
      "metadata": {
        "id": "ikKFWcTd54fk",
        "colab_type": "code",
        "colab": {}
      },
      "source": [
        "import os"
      ],
      "execution_count": 0,
      "outputs": []
    },
    {
      "cell_type": "code",
      "metadata": {
        "id": "80f_wTWg6WLL",
        "colab_type": "code",
        "outputId": "62d724c4-61f4-4c67-f3f1-5cf72419ac37",
        "colab": {
          "base_uri": "https://localhost:8080/",
          "height": 34
        }
      },
      "source": [
        "from keras.applications.vgg16 import preprocess_input\n",
        "from keras.preprocessing.image import load_img\n",
        "from keras.preprocessing.image import img_to_array\n",
        "import numpy as np\n"
      ],
      "execution_count": 0,
      "outputs": [
        {
          "output_type": "stream",
          "text": [
            "Using TensorFlow backend.\n"
          ],
          "name": "stderr"
        }
      ]
    },
    {
      "cell_type": "code",
      "metadata": {
        "id": "2vG0cary_x51",
        "colab_type": "code",
        "outputId": "75ad2d7c-53f5-40fa-af03-928b3e87790c",
        "colab": {
          "base_uri": "https://localhost:8080/",
          "height": 790
        }
      },
      "source": [
        "ixs = [2, 5, 9, 13, 17]\n",
        "outputs = [model.layers[i+1].output for i in ixs]\n",
        "model = Model(inputs=model.inputs, outputs=outputs)\n",
        "model.summary()"
      ],
      "execution_count": 0,
      "outputs": [
        {
          "output_type": "stream",
          "text": [
            "Model: \"model_12\"\n",
            "_________________________________________________________________\n",
            "Layer (type)                 Output Shape              Param #   \n",
            "=================================================================\n",
            "input_6 (InputLayer)         (None, 224, 224, 3)       0         \n",
            "_________________________________________________________________\n",
            "block1_conv1 (Conv2D)        (None, 224, 224, 64)      1792      \n",
            "_________________________________________________________________\n",
            "block1_conv2 (Conv2D)        (None, 224, 224, 64)      36928     \n",
            "_________________________________________________________________\n",
            "block1_pool (MaxPooling2D)   (None, 112, 112, 64)      0         \n",
            "_________________________________________________________________\n",
            "block2_conv1 (Conv2D)        (None, 112, 112, 128)     73856     \n",
            "_________________________________________________________________\n",
            "block2_conv2 (Conv2D)        (None, 112, 112, 128)     147584    \n",
            "_________________________________________________________________\n",
            "block2_pool (MaxPooling2D)   (None, 56, 56, 128)       0         \n",
            "_________________________________________________________________\n",
            "block3_conv1 (Conv2D)        (None, 56, 56, 256)       295168    \n",
            "_________________________________________________________________\n",
            "block3_conv2 (Conv2D)        (None, 56, 56, 256)       590080    \n",
            "_________________________________________________________________\n",
            "block3_conv3 (Conv2D)        (None, 56, 56, 256)       590080    \n",
            "_________________________________________________________________\n",
            "block3_pool (MaxPooling2D)   (None, 28, 28, 256)       0         \n",
            "_________________________________________________________________\n",
            "block4_conv1 (Conv2D)        (None, 28, 28, 512)       1180160   \n",
            "_________________________________________________________________\n",
            "block4_conv2 (Conv2D)        (None, 28, 28, 512)       2359808   \n",
            "_________________________________________________________________\n",
            "block4_conv3 (Conv2D)        (None, 28, 28, 512)       2359808   \n",
            "_________________________________________________________________\n",
            "block4_pool (MaxPooling2D)   (None, 14, 14, 512)       0         \n",
            "_________________________________________________________________\n",
            "block5_conv1 (Conv2D)        (None, 14, 14, 512)       2359808   \n",
            "_________________________________________________________________\n",
            "block5_conv2 (Conv2D)        (None, 14, 14, 512)       2359808   \n",
            "_________________________________________________________________\n",
            "block5_conv3 (Conv2D)        (None, 14, 14, 512)       2359808   \n",
            "_________________________________________________________________\n",
            "block5_pool (MaxPooling2D)   (None, 7, 7, 512)         0         \n",
            "=================================================================\n",
            "Total params: 14,714,688\n",
            "Trainable params: 14,714,688\n",
            "Non-trainable params: 0\n",
            "_________________________________________________________________\n"
          ],
          "name": "stdout"
        }
      ]
    },
    {
      "cell_type": "code",
      "metadata": {
        "id": "gcariLft6cg2",
        "colab_type": "code",
        "colab": {}
      },
      "source": [
        "#load the image with the required shape\n",
        "img = load_img('/content/bird.jpg', target_size=(200, 200))\n",
        "\n",
        "#convert the image to an array\n",
        "img = img_to_array(img)\n",
        "\n",
        "# expand dimensions so that it represents a single 'sample'\n",
        "img = np.expand_dims(img, axis=0)\n",
        "\n",
        "#preprocess and get feature maps\n",
        "img = preprocess_input(img)\n",
        "\n",
        "\n"
      ],
      "execution_count": 0,
      "outputs": []
    },
    {
      "cell_type": "code",
      "metadata": {
        "id": "I5vIh7gjGNzU",
        "colab_type": "code",
        "colab": {}
      },
      "source": [
        "fmap = feature_maps[4]\n",
        "ix = 256\n",
        "idx = 0\n",
        "for i in range(16):\n",
        "  plt.figure(figsize=(30,30))\n",
        "  for j in range(8):\n",
        "    ax = plt.subplot(16,8,idx+1)\n",
        "    ax.set_xticks([])\n",
        "    ax.set_yticks([])\n",
        "    plt.imshow(fmap[0,:,:,ix])\n",
        "    idx+=1\n",
        "    ix+=1\n",
        "plt.show()\n",
        "  "
      ],
      "execution_count": 0,
      "outputs": []
    },
    {
      "cell_type": "code",
      "metadata": {
        "id": "RyVJALu2FVw-",
        "colab_type": "code",
        "colab": {}
      },
      "source": [
        "import os\n",
        "import cv2\n",
        "import numpy as np\n",
        "import time\n",
        "from tqdm import tqdm\n",
        "import matplotlib.pyplot as plt\n",
        "import tensorflow as tf\n",
        "\n",
        "from tensorflow.keras.layers import Input\n",
        "from tensorflow.keras.layers import Conv2D, MaxPooling2D, UpSampling2D\n",
        "from tensorflow.keras import Model\n",
        "\n",
        "#gpu_options = tf.GPUOptions(allow_growth=True)\n",
        "#session = tf.InteractiveSession(config=tf.ConfigProto(gpu_options=gpu_options))\n",
        "\n",
        "# --- PARAMETERS --------------------------------------------------------------\n",
        "\n",
        "image_dims = (200, 200, 3) #Normalized image size\n",
        "n_epochs = 100\n",
        "batch_size = 64\n",
        "loss=\"binary_crossentropy\"\n",
        "optimizer=\"adam\"\n",
        "\n",
        "\n",
        "# --- DEFINING THE ARCHITECTURE -----------------------------------------------\n",
        "\n",
        "\n",
        "inputLayer = Input(shape = image_dims)\n",
        "e1 = Conv2D(filters = 32, kernel_size = (3, 3), activation = 'relu', padding='same')(inputLayer) # Padding=same important to maintain reconstrction\n",
        "e2 = MaxPooling2D(pool_size = (2, 2))(e1)\n",
        "e3 = Conv2D(filters = 16, kernel_size = (3, 3), activation = 'relu', padding='same')(e2)\n",
        "e4 = MaxPooling2D(pool_size = (2, 2))(e3)\n",
        "e5 = Conv2D(filters = 16, kernel_size = (3, 3), activation = 'relu', padding='same')(e4)\n",
        "e6 = MaxPooling2D(pool_size = (2, 2))(e5)\n",
        "\n",
        "d1 = Conv2D(filters = 16, kernel_size = (3, 3), activation = 'relu', padding='same')(e6)\n",
        "d2 = UpSampling2D(size = (2, 2))(d1)\n",
        "d3 = Conv2D(filters = 16, kernel_size = (3, 3), activation = 'relu', padding='same')(d2)\n",
        "d4 = UpSampling2D(size = (2, 2))(d3)\n",
        "d5 = Conv2D(filters = 32, kernel_size = (3, 3), activation = 'relu', padding='same')(d4)\n",
        "d6 = UpSampling2D(size = (2, 2))(d5)\n",
        "outLayer = Conv2D(filters = image_dims[2], kernel_size = (3, 3), activation = 'sigmoid', padding='same')(d6)\n",
        "\n",
        "\n",
        "# CREATING AUTOENCODER MODEL INSTANCE\n",
        "# Autoencoder Model\n",
        "autoencoder = Model(inputLayer, outLayer)\n",
        "\n",
        "# Encoder Model\n",
        "encoder = Model(inputLayer, e6)\n",
        "\n",
        "input_encoder_shape = encoder.layers[0].input_shape[1:]\n",
        "output_encoder_shape = encoder.layers[-1].output_shape[1:]\n",
        "\n",
        "# Decoder Model - For producing regenerated images from the autoencoder features\n",
        "decoded_input = Input(shape=output_encoder_shape)\n",
        "decoded_output = autoencoder.layers[-7](decoded_input)  # Conv2D\n",
        "decoded_output = autoencoder.layers[-6](decoded_output)  # UpSampling2D\n",
        "decoded_output = autoencoder.layers[-5](decoded_output)  # Conv2D\n",
        "decoded_output = autoencoder.layers[-4](decoded_output)  # UpSampling2D\n",
        "decoded_output = autoencoder.layers[-3](decoded_output)  # Conv2D\n",
        "decoded_output = autoencoder.layers[-2](decoded_output)  # UpSampling2D\n",
        "decoded_output = autoencoder.layers[-1](decoded_output)  # Conv2D\n",
        "\n",
        "decoder = Model(decoded_input, decoded_output)\n",
        "\n",
        "#############################################\n",
        "# Training the model\n",
        "#############################################\n",
        "\n",
        "autoencoder.compile(loss=loss, optimizer=optimizer)\n",
        "\n",
        "t0 = time.time()\n",
        "\n",
        "--------------------------#Get the each epoch each img visualization Darshan Solanki Code-------------------------------------\n",
        "\n",
        "#Imports\n",
        "\n",
        "\n",
        "from keras.callbacks import ModelCheckpoint\n",
        "\n",
        "filepath=\"/content/weights.best.{epoch:02d}-{val_accuracy:.2f}.hdf5\"\n",
        "checkpoint = ModelCheckpoint(filepath, monitor='accuracy', verbose=1, save_weights_only=True, mode='max',period=1)\n",
        "callbacks_list = [checkpoint]\n",
        "\n",
        "autoencoder.fit(x=X_train, y=X_train,\n",
        "                             epochs = n_epochs,\n",
        "                             batch_size = batch_size,\n",
        "                             shuffle = True,\n",
        "                             validation_split=0.1,callbacks = callbacks_list)\n",
        "\n",
        "t99 = time.time()\n",
        "print('No GPU Time Taken = ', (t99-t0)/60)\n",
        "#model.save_models()\n",
        "\n",
        "\n",
        "# SAVING MODEL\n",
        "if False:\n",
        "    autoencoder.save(\"autoencoderParams.h5\")\n",
        "    encoder.save(\"encoderParams.h5\")\n",
        "    decoder.save(\"decoderParams.h5\")\n",
        "\n",
        "\n",
        "\n",
        "# LOADING MODEL\n",
        "if False:\n",
        "    autoencoder2 = tf.keras.models.load_model(\"autoencoderParams.h5\")\n",
        "    encoder2 = tf.keras.models.load_model(\"encoderParams.h5\")\n",
        "    decoder2 = tf.keras.models.load_model(\"decoderParams.h5\")\n",
        "    autoencoder2.compile(optimizer=optimizer, loss=loss)\n",
        "    encoder2.compile(optimizer=optimizer, loss=loss)\n",
        "    decoder2.compile(optimizer=optimizer, loss=loss)\n",
        "    #z_train=encoder2.predict(X_train)\n",
        "    #z_train = z_train.reshape((-1, np.prod(output_shape_model)))\n",
        "    #z_test=encoder2.predict(X_test)\n",
        "    #z_test = z_test.reshape((-1, np.prod(output_shape_model)))\n",
        "    \n",
        "    \n",
        "    \n",
        "# Generating the TRAIN and TEST features from the trained encoder\n",
        "\n",
        "ae_feats_train = encoder.predict(X_train)\n",
        "ae_feats_train_flat = ae_feats_train.reshape((-1, np.prod(output_shape_model)))\n",
        "\n",
        "\n",
        "ae_feats_test = encoder.predict(X_test)\n",
        "ae_feats_test_flat = ae_feats_test.reshape((-1, np.prod(output_shape_model)))\n",
        "\n",
        "\n",
        "print(ae_feats_train_flat.shape)\n",
        "print(ae_feats_test_flat.shape)\n",
        "\n",
        "\n"
      ],
      "execution_count": 0,
      "outputs": []
    },
    {
      "cell_type": "markdown",
      "metadata": {
        "id": "6DNwJPkbxWKs",
        "colab_type": "text"
      },
      "source": [
        "# Plotting each Layer Feature Maps\n",
        "\n",
        "**Load the X_train / Xtest images to do the prediction**\n",
        "**Demoed one of the dog images to showcase the workflow**"
      ]
    },
    {
      "cell_type": "code",
      "metadata": {
        "id": "XiLpTvQ8xep9",
        "colab_type": "code",
        "colab": {}
      },
      "source": [
        "\n",
        "#Code for encoder visualization for each convolution layer\n",
        "\n",
        "#-----Libary Imports----------\n",
        "\n",
        "from keras.applications.vgg16 import preprocess_input\n",
        "from keras.preprocessing.image import load_img\n",
        "from keras.preprocessing.image import img_to_array\n",
        "from tensorflow.keras import Model\n",
        "import numpy as np\n",
        "import matplotlib.pyplot as plt\n",
        "\n",
        "\n",
        "#This are indexes of each layer, can be calculated from \n",
        "#encoder.summary()\n",
        "#Included maxpooling layers as well\n",
        "\n",
        "ixs = [1,2,3,4,5]\n",
        "outputs = [encoder.layers[i].output for i in ixs]\n",
        "model = Model(inputs=encoder.inputs, outputs=outputs)\n",
        "\n",
        "#Demo image\n",
        "\n",
        "img = load_img('/content/000000362567.jpg',target_size=(200,200))\n",
        "plt.imshow(img)\n",
        "plt.show()\n",
        "img = img_to_array(img)\n",
        "img = np.expand_dims(img,axis=0)\n",
        "img = preprocess_input(img)\n",
        "\n",
        "#Predicting feature maps for each layer (including max pooling) of encoder\n",
        "feature_maps = model.predict(img)"
      ],
      "execution_count": 0,
      "outputs": []
    },
    {
      "cell_type": "code",
      "metadata": {
        "id": "fwDyix9xk9VF",
        "colab_type": "code",
        "colab": {}
      },
      "source": [
        "#Plot feature maps \n",
        "\n",
        "def plottingFeatureMaps(feature_maps):\n",
        "  square = 4\n",
        "  block_count = 1\n",
        "  for fmap in feature_maps:\n",
        "    print(fmap.shape)\n",
        "    ix = 1\n",
        "    for _ in range(2):\n",
        "      plt.figure(figsize=(10,10))\n",
        "      for _ in range(4):\n",
        "        ax = plt.subplot(square,square,ix)\n",
        "        ax.set_xticks([])\n",
        "        ax.set_yticks([])\n",
        "        plt.imshow(fmap[0,:,:,ix-1])\n",
        "        ix+=1\n",
        "    print(f'------------------Block {block_count} Completed  ---------------------')\n",
        "    block_count+=1\n",
        "    plt.show()\n",
        "\n",
        "plottingFeatureMaps(feature_maps)\n",
        "  "
      ],
      "execution_count": 0,
      "outputs": []
    },
    {
      "cell_type": "markdown",
      "metadata": {
        "id": "T7_ZeanPxmej",
        "colab_type": "text"
      },
      "source": [
        "# Per Image Deep Tracker\n",
        "\n",
        "**Load the per epoch model for autoencoders as training is done by this**<br>\n",
        "**Can be performed on X_test also if the validation data is given while training**"
      ]
    },
    {
      "cell_type": "code",
      "metadata": {
        "id": "u1PADQ1Kod_c",
        "colab_type": "code",
        "colab": {}
      },
      "source": [
        "\n",
        "\n",
        "import collections\n",
        "import os\n",
        "\n",
        "dict_ = collections.defaultdict(list)\n",
        "\n",
        "for i in range(len(x_train[0:10])):\n",
        "  img = x_train[i]\n",
        "  img = np.expand_dims(img,axis=0)\n",
        "  accuracy = []\n",
        "  for j in os.listdir('.'):\n",
        "    if('weights.best' in j):\n",
        "      model.load_weights(j)\n",
        "      y_pred = model.predict(img)\n",
        "      max_idx = np.argmax(y_pred,axis=-1)\n",
        "      accuracy.append(y_pred[0][max_idx[0]])\n",
        "  \n",
        "  #keys will be image_name and values will be accuracy score for all epochs\n",
        "  dict_[i] = [accuracy]"
      ],
      "execution_count": 0,
      "outputs": []
    },
    {
      "cell_type": "code",
      "metadata": {
        "id": "mQBEV5KVqE8L",
        "colab_type": "code",
        "colab": {}
      },
      "source": [
        "import pandas as pd\n",
        "import seaborn as sns\n",
        "\n",
        "df_perImagePlot = pd.DataFrame()\n",
        "\n",
        "images_names = []\n",
        "series_object = []\n",
        "epochs_tracker = []\n",
        "num_epochs = epochs\n",
        "\n",
        "for k,v in dict_.items():\n",
        "  images_names.extend([k]*num_epochs)\n",
        "  series_object.append(pd.Series(v))\n",
        "  epochs_tracker.extend([*range(1,num_epochs+1)])\n",
        "\n",
        "df_perImagePlot = pd.concat(series_object, axis=0).reset_index()\n",
        "df_perImagePlot.rename(columns={0:'Accuracy'},inplace=True)\n",
        "df_perImagePlot['epochs'] = epochs_tracker\n",
        "df_perImagePlot['Images'] = images_names\n",
        "df_perImagePlot.drop('index',axis=1,inplace=True)"
      ],
      "execution_count": 0,
      "outputs": []
    },
    {
      "cell_type": "code",
      "metadata": {
        "id": "l3NBoZxdwsSG",
        "colab_type": "code",
        "colab": {}
      },
      "source": [
        "#My Idea\n",
        "df2 = df_perImagePlot.pivot('Images','epochs','Accuracy')\n",
        "ax = sns.heatmap(df2,cmap=\"YlGnBu\")\n",
        "\n",
        "#Two ways viz Gromit's idea\n",
        "df2 = df_perImagePlot.pivot('Images','Accuracy','epochs')\n",
        "ax = sns.heatmap(df2,cmap=\"YlGnBu\",cbar_kws={'ticks':[range(1,num_epochs+1)]})"
      ],
      "execution_count": 0,
      "outputs": []
    },
    {
      "cell_type": "code",
      "metadata": {
        "id": "obHXVMXazMwU",
        "colab_type": "code",
        "outputId": "e1a2684f-0a53-46f9-ec8e-f92e6e86dc08",
        "colab": {
          "base_uri": "https://localhost:8080/",
          "height": 744
        }
      },
      "source": [
        "from collections import Counter \n",
        "\n",
        "def countWordPlot(caps):\n",
        "\n",
        "  corpus = []\n",
        "  for tokens in caps:\n",
        "    corpus.extend(tokens)\n",
        "\n",
        "  dict_wc = {}\n",
        "\n",
        "  for word in corpus:\n",
        "    if(word in dict_wc):\n",
        "      dict_wc[word] +=1\n",
        "    \n",
        "    else:\n",
        "      dict_wc[word] = 1\n",
        "\n",
        "\n",
        "  tag = sorted(dict_wc.items(),key = lambda x: x[1],reverse=True)\n",
        "  tag_name = []\n",
        "  tag_count = []\n",
        "\n",
        "  for t in tag[:3]:\n",
        "    tag_name.append(t[0])\n",
        "    tag_count.append(t[1])\n",
        "\n",
        "  x_axis = [*range(1,len(dict_wc)+1)]\n",
        "  y_axis = list(dict_wc.values())\n",
        "  z_axis = [i*100 for i in y_axis]\n",
        "  labels = list(dict_wc.keys())\n",
        "\n",
        "  #use the scatter function\n",
        "  plt.figure(figsize=(8,8))\n",
        "  plt.scatter(x_axis, y_axis, s=z_axis, alpha=0.5,c='red',label='Words')\n",
        "  plt.xlabel('Number of words')\n",
        "  plt.ylabel('Word Counts')\n",
        "  plt.legend()\n",
        "\n",
        "  j = 0\n",
        "  for x,y in zip(x_axis,y_axis):\n",
        "\n",
        "      label = labels[j]\n",
        "\n",
        "      # this method is called for each point\n",
        "      plt.annotate(label, # this is the text\n",
        "                  (x,y), # this is the point to label\n",
        "                  textcoords=\"offset points\", # how to position the text\n",
        "                  xytext=(0,10), # distance from text to points (x,y)\n",
        "                  ha='center') # horizontal alignment can be left, right or center\n",
        "      j+=1\n",
        "\n",
        "  plt.show()\n",
        "\n",
        "  #Tagging the image\n",
        "  plt.title('Tagging the images with the Freq Word Occurence')\n",
        "  plt.pie(tag_count, labels=tag_name, autopct='%.2f')\n",
        "  plt.show()\n",
        "\n",
        "\n",
        "caps = [['cat','hat','running','grass','home','pillow'],['cat','white','green','house','sofa'],['white','yawning','house','bed','cat'],['door','mat','grass','pillow']]\n",
        "countWordPlot(caps)"
      ],
      "execution_count": 0,
      "outputs": [
        {
          "output_type": "display_data",
          "data": {
            "image/png": "[encoded data removed]",
            "text/plain": [
              "<Figure size 576x576 with 1 Axes>"
            ]
          },
          "metadata": {
            "tags": [],
            "needs_background": "light"
          }
        },
        {
          "output_type": "display_data",
          "data": {
            "image/png": "[encoded data removed]",
            "text/plain": [
              "<Figure size 432x288 with 1 Axes>"
            ]
          },
          "metadata": {
            "tags": []
          }
        }
      ]
    },
    {
      "cell_type": "code",
      "metadata": {
        "id": "k2UEMJvfw7id",
        "colab_type": "code",
        "colab": {
          "base_uri": "https://localhost:8080/",
          "height": 34
        },
        "outputId": "3f817712-2478-463a-9192-b479b229a921"
      },
      "source": [
        "\n",
        "import re\n",
        "import numpy as np\n",
        "import os\n",
        "import json\n",
        "from PIL import Image\n",
        "from collections import defaultdict\n",
        "from pycocotools.coco import COCO\n",
        "import json\n",
        "import tensorflow as tf\n",
        "import pandas as pd\n",
        "import math\n",
        "import cv2\n",
        "import matplotlib.pyplot as plt\n",
        "from PIL import Image\n",
        "from keras.preprocessing.image import img_to_array"
      ],
      "execution_count": 6,
      "outputs": [
        {
          "output_type": "stream",
          "text": [
            "Using TensorFlow backend.\n"
          ],
          "name": "stderr"
        }
      ]
    },
    {
      "cell_type": "code",
      "metadata": {
        "id": "KStgbv4M9Wpu",
        "colab_type": "code",
        "colab": {
          "base_uri": "https://localhost:8080/",
          "height": 84
        },
        "outputId": "fe8a277b-be02-4209-9cf6-93e70de8b5a7"
      },
      "source": [
        "annotation_folder = '/annotations/'\n",
        "if not os.path.exists(os.path.abspath('.') + annotation_folder):\n",
        "  annotation_zip = tf.keras.utils.get_file('captions.zip',\n",
        "                                          cache_subdir=os.path.abspath('.'),\n",
        "                                          origin = 'http://images.cocodataset.org/annotations/annotations_trainval2017.zip',\n",
        "                                          extract = True)\n",
        "  annotation_file = os.path.dirname(annotation_zip)+'/annotations/captions_train2017.json'\n",
        "  os.remove(annotation_zip)\n",
        "\n",
        "# Download image files\n",
        "\n",
        "image_folder = '/train2017/'\n",
        "if not os.path.exists(os.path.abspath('.') + image_folder):\n",
        "  image_zip = tf.keras.utils.get_file('train2017.zip',\n",
        "                                      cache_subdir=os.path.abspath('.'),\n",
        "                                      origin = 'http://images.cocodataset.org/zips/train2017.zip',\n",
        "                                      extract = True)\n",
        "  PATH = os.path.dirname(image_zip) + image_folder\n",
        "  os.remove(image_zip)\n",
        "else:\n",
        "  PATH = os.path.abspath('.') + image_folder\n",
        "  \n",
        "# Paths in Google Colab if ran\n",
        "captions_path = '/content/annotations/captions_train2017.json'\n",
        "annotations_path = '/content/annotations/instances_train2017.json'\n",
        "images_path = '/content/train2017/'\n",
        "\n",
        "dir_content = os.listdir(images_path)\n",
        "# Load captions\n",
        "with open(captions_path) as json_file: \n",
        "    captions = json.load(json_file)\n",
        "\n",
        "# Load anotations\n",
        "with open(annotations_path) as json_file: \n",
        "    annotations = json.load(json_file)"
      ],
      "execution_count": 7,
      "outputs": [
        {
          "output_type": "stream",
          "text": [
            "Downloading data from http://images.cocodataset.org/annotations/annotations_trainval2017.zip\n",
            "252911616/252907541 [==============================] - 3s 0us/step\n",
            "Downloading data from http://images.cocodataset.org/zips/train2017.zip\n",
            "19336863744/19336861798 [==============================] - 355s 0us/step\n"
          ],
          "name": "stdout"
        }
      ]
    },
    {
      "cell_type": "code",
      "metadata": {
        "id": "Z-JfG1AKYFJh",
        "colab_type": "code",
        "colab": {
          "base_uri": "https://localhost:8080/",
          "height": 34
        },
        "outputId": "a2f4bde2-e0dd-4bcf-fdd7-1b7a7528a3e5"
      },
      "source": [
        "os.listdir('.')"
      ],
      "execution_count": 8,
      "outputs": [
        {
          "output_type": "execute_result",
          "data": {
            "text/plain": [
              "['.config', 'train2017', 'annotations', 'augmentedImages', 'sample_data']"
            ]
          },
          "metadata": {
            "tags": []
          },
          "execution_count": 8
        }
      ]
    },
    {
      "cell_type": "code",
      "metadata": {
        "id": "miDNSVB8xin3",
        "colab_type": "code",
        "colab": {}
      },
      "source": [
        "!pip install -U -q PyDrive\n",
        "from pydrive.auth import GoogleAuth\n",
        "from pydrive.drive import GoogleDrive\n",
        "from google.colab import auth\n",
        "from oauth2client.client import GoogleCredentials\n",
        "\n",
        "# Authenticate and create the PyDrive client.\n",
        "auth.authenticate_user()\n",
        "gauth = GoogleAuth()\n",
        "gauth.credentials = GoogleCredentials.get_application_default()\n",
        "drive = GoogleDrive(gauth)\n",
        "\n",
        "link  = 'https://drive.google.com/open?id=1-DDq-MrLR-6AWV3pbcxlM86b111s7FW4'\n",
        "fluff, id = link.split('=')\n",
        "downloaded = drive.CreateFile({'id':id}) \n",
        "downloaded.GetContentFile('Unique_images_with_Labels.csv') \n",
        "\n",
        "link = 'https://drive.google.com/open?id=1-9mFml14ycNdIuTmXfmHRFB1v_IBp6xb'\n",
        "fluff, id = link.split('=')\n",
        "downloaded = drive.CreateFile({'id':id}) \n",
        "downloaded.GetContentFile('captions_train.csv') \n",
        "\n",
        "link  = 'https://drive.google.com/open?id=1-79RephyXYV79jldfU4X9Q8Xs9fC1gKU'\n",
        "fluff, id = link.split('=')\n",
        "downloaded = drive.CreateFile({'id':id}) \n",
        "downloaded.GetContentFile('captions_test.csv') "
      ],
      "execution_count": 0,
      "outputs": []
    },
    {
      "cell_type": "code",
      "metadata": {
        "id": "7M2-qQNPxjSU",
        "colab_type": "code",
        "colab": {
          "base_uri": "https://localhost:8080/",
          "height": 168
        },
        "outputId": "90751697-7165-443d-b2ca-0053c867c389"
      },
      "source": [
        "import os\n",
        "\n",
        "os.listdir('.')"
      ],
      "execution_count": 11,
      "outputs": [
        {
          "output_type": "execute_result",
          "data": {
            "text/plain": [
              "['.config',\n",
              " 'Unique_images_with_Labels.csv',\n",
              " 'captions_test.csv',\n",
              " 'train2017',\n",
              " 'captions_train.csv',\n",
              " 'annotations',\n",
              " 'augmentedImages',\n",
              " 'adc.json',\n",
              " 'sample_data']"
            ]
          },
          "metadata": {
            "tags": []
          },
          "execution_count": 11
        }
      ]
    },
    {
      "cell_type": "code",
      "metadata": {
        "id": "7jRu_gbZyPNZ",
        "colab_type": "code",
        "colab": {}
      },
      "source": [
        "df_images = pd.read_csv('/content/Unique_images_with_Labels.csv',index_col = 0)\n",
        "df_train = pd.read_csv('/content/captions_train.csv',names = ['Image','Text'])\n",
        "df_test = pd.read_csv('/content/captions_test.csv',names = ['Image','Text'])\n",
        "train_images = set(df_train['Image'].apply(lambda x: x.split('.')[0]))\n",
        "test_images = set(df_test['Image'].apply(lambda x: x.split('.')[0]))"
      ],
      "execution_count": 0,
      "outputs": []
    },
    {
      "cell_type": "code",
      "metadata": {
        "id": "IFYdwzPY4cd4",
        "colab_type": "code",
        "colab": {}
      },
      "source": [
        "masks_train = df_images['Images'].apply(lambda x: x.split('.')[0] in train_images)\n",
        "masks_test = df_images['Images'].apply(lambda x: x.split('.')[0] in test_images)\n",
        "df_subtrain = df_images[masks_train]\n",
        "df_subtest = df_images[masks_test]"
      ],
      "execution_count": 0,
      "outputs": []
    },
    {
      "cell_type": "code",
      "metadata": {
        "id": "Sm45qIqg0ROu",
        "colab_type": "code",
        "colab": {}
      },
      "source": [
        "# example of random rotation image augmentation\n",
        "from numpy import expand_dims\n",
        "from keras.preprocessing.image import load_img\n",
        "from keras.preprocessing.image import img_to_array\n",
        "from keras.preprocessing.image import ImageDataGenerator\n",
        "from matplotlib import pyplot\n",
        "from PIL import Image\n",
        "import math\n",
        "import numpy as np\n",
        "import random\n",
        "from PIL import Image\n",
        "\n",
        "\n",
        "is_Ratio = False\n",
        "aug_Images = 2500\n",
        "ratio_path = '/content/augmentedImagesProportion/'\n",
        "wo_ratio = '/content/augmentedImages/'\n",
        "\n",
        "\n",
        "x_train_aug = []\n",
        "x_train_aug_wo = []\n",
        "\n",
        "y_train_aug = []\n",
        "y_train_aug_wo = []\n",
        "\n",
        "\n",
        "def generate_perImageCount(n,target,low,high):\n",
        "  \n",
        "  count_img = [0]*n\n",
        "\n",
        "  if( n > target):\n",
        "    indexes = np.random.choice(n,target)\n",
        "    #print(indexes)\n",
        "    for idx in indexes:\n",
        "      count_img[idx] = 1\n",
        "\n",
        "  else:\n",
        "    while not sum(count_img) >= target:\n",
        "      for idx,val in enumerate(count_img):\n",
        "        x = np.random.randint(low, high)\n",
        "        if(low == high):\n",
        "          count_img[idx] +=1\n",
        "        else:\n",
        "          count_img[idx] += x\n",
        "\n",
        "  return count_img"
      ],
      "execution_count": 0,
      "outputs": []
    },
    {
      "cell_type": "code",
      "metadata": {
        "id": "Kkm8IeGLespB",
        "colab_type": "code",
        "colab": {}
      },
      "source": [
        "\n",
        "def augmentation(type_,image):\n",
        "\n",
        "  data = img_to_array(image)\n",
        "  samples = expand_dims(data, 0)\n",
        "\n",
        "  if(type == 'rotation'):\n",
        "    rotation_random = np.random.randint(25,90)\n",
        "    datagen = ImageDataGenerator(type_= rotation_random)\n",
        "    \n",
        "  elif(type_ == 'zoom'):\n",
        "    datagen = ImageDataGenerator(zoom_range=[0.5,1.0])\n",
        "  else:\n",
        "    datagen = ImageDataGenerator(horizontal_flip=True)\n",
        "\n",
        "  it = datagen.flow(samples, batch_size=1)\n",
        "  batch = it.next()\n",
        "  image = batch[0].astype('uint8')\n",
        "\n",
        "    \n",
        "  return image\n",
        " "
      ],
      "execution_count": 0,
      "outputs": []
    },
    {
      "cell_type": "code",
      "metadata": {
        "id": "4YNgI6cCeu4N",
        "colab_type": "code",
        "colab": {
          "base_uri": "https://localhost:8080/",
          "height": 1000
        },
        "outputId": "567ce3e8-80ee-48ae-83de-f82b6cb96106"
      },
      "source": [
        "\n",
        "def image_Augmentor(x_train,y_train):\n",
        "\n",
        "  augmentor = ['rotate','zoom','flip']\n",
        "  dict_class = {}\n",
        "  total_Count = 0\n",
        "\n",
        "  print(len(x_train),len(y_train))\n",
        "\n",
        "  if not is_Ratio:\n",
        "    for cat in set(y_train):\n",
        "      pres_count = y_train.count(cat)\n",
        "      dict_class[cat] = (aug_Images - pres_count , pres_count)\n",
        "\n",
        "  else:\n",
        "    for cat in set(y_train):\n",
        "      pres_count = y_train.count(cat)\n",
        "      dict_class[cat] = (int(aug_Images * (pres_count / len(y_train))), pres_count)\n",
        "\n",
        "      \n",
        "  for k,v in dict_class.items():\n",
        "    print(k,v[0],v[1])\n",
        "\n",
        "  for cls,img_count in dict_class.items():\n",
        "\n",
        "    maxImg = int(math.ceil(img_count[0]/img_count[1]))\n",
        "    generator = generate_perImageCount(img_count[1],img_count[0],1,maxImg)\n",
        "    index_class = [i for i,category in enumerate(y_train) if category == cls]\n",
        "\n",
        "    for i,idx in enumerate(index_class):\n",
        "\n",
        "      img = x_train[idx]\n",
        "\n",
        "      #print(f'Reading {img}')\n",
        "      image = cv2.imread(os.path.join(images_path,img),1)\n",
        "      img = img.split('.')[0]\n",
        "\n",
        "      #For each image how many different augmented images to be formed is stored in perImgCount\n",
        "      perImgCount = generator[i]\n",
        "\n",
        "      #print('PerImgCount',perImgCount)\n",
        "\n",
        "      while (perImgCount != 0):\n",
        "\n",
        "        #selection random augmentor type\n",
        "        index = random.randint(0,len(augmentor)-1)\n",
        "        augmentor_type = augmentor[index]\n",
        "\n",
        "        #pass the type and image to augment it\n",
        "        aug_img = augmentation(augmentor_type,image)\n",
        "          \n",
        "        #print(type(aug_img),f'{img}#{perImgCount}.jpg')\n",
        "\n",
        "        #save the image as img_name#1.jpg\n",
        "  \n",
        "        if(is_Ratio == True):\n",
        "          cv2.imwrite(f'{ratio_path}{img}#{perImgCount}.jpg', aug_img)\n",
        "          x_train_aug.append(f'{img}#{perImgCount}.jpg')\n",
        "          y_train_aug.append(cls)\n",
        "        else:\n",
        "          cv2.imwrite(f'{wo_ratio}{img}#{perImgCount}.jpg', aug_img)\n",
        "          x_train_aug_wo.append(f'{img}#{perImgCount}.jpg')\n",
        "          y_train_aug_wo.append(cls)\n",
        "        \n",
        "        total_Count +=1\n",
        "        perImgCount -=1\n",
        "\n",
        "        \n",
        "x_train  = df_subtrain['Images'].to_list()\n",
        "y_train = df_subtrain['Label'].to_list()\n",
        "image_Augmentor(x_train,y_train)\n",
        "print('Completed')"
      ],
      "execution_count": 147,
      "outputs": [
        {
          "output_type": "stream",
          "text": [
            "2371 2371\n",
            "cat 2072 428\n",
            "dog 2206 294\n",
            "plane 1896 604\n",
            "Vehicle 1455 1045\n",
            "Total_Images generated  1\n",
            "Total_Images generated  2\n",
            "Total_Images generated  3\n",
            "Total_Images generated  4\n",
            "Total_Images generated  5\n",
            "Total_Images generated  6\n",
            "Total_Images generated  7\n",
            "Total_Images generated  8\n",
            "Total_Images generated  9\n",
            "Total_Images generated  10\n",
            "Total_Images generated  11\n",
            "Total_Images generated  12\n",
            "Total_Images generated  13\n",
            "Total_Images generated  14\n",
            "Total_Images generated  15\n",
            "Total_Images generated  16\n",
            "Total_Images generated  17\n",
            "Total_Images generated  18\n",
            "Total_Images generated  19\n",
            "Total_Images generated  20\n",
            "Total_Images generated  21\n",
            "Total_Images generated  22\n",
            "Total_Images generated  23\n",
            "Total_Images generated  24\n",
            "Total_Images generated  25\n",
            "Total_Images generated  26\n",
            "Total_Images generated  27\n",
            "Total_Images generated  28\n",
            "Total_Images generated  29\n",
            "Total_Images generated  30\n",
            "Total_Images generated  31\n",
            "Total_Images generated  32\n",
            "Total_Images generated  33\n",
            "Total_Images generated  34\n",
            "Total_Images generated  35\n",
            "Total_Images generated  36\n",
            "Total_Images generated  37\n",
            "Total_Images generated  38\n",
            "Total_Images generated  39\n",
            "Total_Images generated  40\n",
            "Total_Images generated  41\n",
            "Total_Images generated  42\n",
            "Total_Images generated  43\n",
            "Total_Images generated  44\n",
            "Total_Images generated  45\n",
            "Total_Images generated  46\n",
            "Total_Images generated  47\n",
            "Total_Images generated  48\n",
            "Total_Images generated  49\n",
            "Total_Images generated  50\n",
            "Total_Images generated  51\n",
            "Total_Images generated  52\n",
            "Total_Images generated  53\n",
            "Total_Images generated  54\n",
            "Total_Images generated  55\n",
            "Total_Images generated  56\n",
            "Total_Images generated  57\n",
            "Total_Images generated  58\n",
            "Total_Images generated  59\n",
            "Total_Images generated  60\n",
            "Total_Images generated  61\n",
            "Total_Images generated  62\n",
            "Total_Images generated  63\n",
            "Total_Images generated  64\n",
            "Total_Images generated  65\n",
            "Total_Images generated  66\n",
            "Total_Images generated  67\n",
            "Total_Images generated  68\n",
            "Total_Images generated  69\n",
            "Total_Images generated  70\n",
            "Total_Images generated  71\n",
            "Total_Images generated  72\n",
            "Total_Images generated  73\n",
            "Total_Images generated  74\n",
            "Total_Images generated  75\n",
            "Total_Images generated  76\n",
            "Total_Images generated  77\n",
            "Total_Images generated  78\n",
            "Total_Images generated  79\n",
            "Total_Images generated  80\n",
            "Total_Images generated  81\n",
            "Total_Images generated  82\n",
            "Total_Images generated  83\n",
            "Total_Images generated  84\n",
            "Total_Images generated  85\n",
            "Total_Images generated  86\n",
            "Total_Images generated  87\n",
            "Total_Images generated  88\n",
            "Total_Images generated  89\n",
            "Total_Images generated  90\n",
            "Total_Images generated  91\n",
            "Total_Images generated  92\n",
            "Total_Images generated  93\n",
            "Total_Images generated  94\n",
            "Total_Images generated  95\n",
            "Total_Images generated  96\n",
            "Total_Images generated  97\n",
            "Total_Images generated  98\n",
            "Total_Images generated  99\n",
            "Total_Images generated  100\n",
            "Total_Images generated  101\n"
          ],
          "name": "stdout"
        },
        {
          "output_type": "error",
          "ename": "KeyboardInterrupt",
          "evalue": "ignored",
          "traceback": [
            "\u001b[0;31m---------------------------------------------------------------------------\u001b[0m",
            "\u001b[0;31mKeyboardInterrupt\u001b[0m                         Traceback (most recent call last)",
            "\u001b[0;32m<ipython-input-147-58f54b116fe8>\u001b[0m in \u001b[0;36m<module>\u001b[0;34m()\u001b[0m\n\u001b[1;32m     71\u001b[0m \u001b[0mx_train\u001b[0m  \u001b[0;34m=\u001b[0m \u001b[0mdf_subtrain\u001b[0m\u001b[0;34m[\u001b[0m\u001b[0;34m'Images'\u001b[0m\u001b[0;34m]\u001b[0m\u001b[0;34m.\u001b[0m\u001b[0mto_list\u001b[0m\u001b[0;34m(\u001b[0m\u001b[0;34m)\u001b[0m\u001b[0;34m\u001b[0m\u001b[0;34m\u001b[0m\u001b[0m\n\u001b[1;32m     72\u001b[0m \u001b[0my_train\u001b[0m \u001b[0;34m=\u001b[0m \u001b[0mdf_subtrain\u001b[0m\u001b[0;34m[\u001b[0m\u001b[0;34m'Label'\u001b[0m\u001b[0;34m]\u001b[0m\u001b[0;34m.\u001b[0m\u001b[0mto_list\u001b[0m\u001b[0;34m(\u001b[0m\u001b[0;34m)\u001b[0m\u001b[0;34m\u001b[0m\u001b[0;34m\u001b[0m\u001b[0m\n\u001b[0;32m---> 73\u001b[0;31m \u001b[0mimage_Augmentor\u001b[0m\u001b[0;34m(\u001b[0m\u001b[0mx_train\u001b[0m\u001b[0;34m,\u001b[0m\u001b[0my_train\u001b[0m\u001b[0;34m)\u001b[0m\u001b[0;34m\u001b[0m\u001b[0;34m\u001b[0m\u001b[0m\n\u001b[0m\u001b[1;32m     74\u001b[0m \u001b[0mprint\u001b[0m\u001b[0;34m(\u001b[0m\u001b[0;34m'Completed'\u001b[0m\u001b[0;34m)\u001b[0m\u001b[0;34m\u001b[0m\u001b[0;34m\u001b[0m\u001b[0m\n",
            "\u001b[0;32m<ipython-input-147-58f54b116fe8>\u001b[0m in \u001b[0;36mimage_Augmentor\u001b[0;34m(x_train, y_train)\u001b[0m\n\u001b[1;32m     48\u001b[0m \u001b[0;34m\u001b[0m\u001b[0m\n\u001b[1;32m     49\u001b[0m         \u001b[0;31m#pass the type and image to augment it\u001b[0m\u001b[0;34m\u001b[0m\u001b[0;34m\u001b[0m\u001b[0;34m\u001b[0m\u001b[0m\n\u001b[0;32m---> 50\u001b[0;31m         \u001b[0maug_img\u001b[0m \u001b[0;34m=\u001b[0m \u001b[0maugmentation\u001b[0m\u001b[0;34m(\u001b[0m\u001b[0maugmentor_type\u001b[0m\u001b[0;34m,\u001b[0m\u001b[0mimage\u001b[0m\u001b[0;34m)\u001b[0m\u001b[0;34m\u001b[0m\u001b[0;34m\u001b[0m\u001b[0m\n\u001b[0m\u001b[1;32m     51\u001b[0m \u001b[0;34m\u001b[0m\u001b[0m\n\u001b[1;32m     52\u001b[0m         \u001b[0;31m#print(type(aug_img),f'{img}#{perImgCount}.jpg')\u001b[0m\u001b[0;34m\u001b[0m\u001b[0;34m\u001b[0m\u001b[0;34m\u001b[0m\u001b[0m\n",
            "\u001b[0;32m<ipython-input-144-e4c1e6b5d0ba>\u001b[0m in \u001b[0;36maugmentation\u001b[0;34m(type_, image)\u001b[0m\n\u001b[1;32m     15\u001b[0m \u001b[0;34m\u001b[0m\u001b[0m\n\u001b[1;32m     16\u001b[0m   \u001b[0mit\u001b[0m \u001b[0;34m=\u001b[0m \u001b[0mdatagen\u001b[0m\u001b[0;34m.\u001b[0m\u001b[0mflow\u001b[0m\u001b[0;34m(\u001b[0m\u001b[0msamples\u001b[0m\u001b[0;34m,\u001b[0m \u001b[0mbatch_size\u001b[0m\u001b[0;34m=\u001b[0m\u001b[0;36m1\u001b[0m\u001b[0;34m)\u001b[0m\u001b[0;34m\u001b[0m\u001b[0;34m\u001b[0m\u001b[0m\n\u001b[0;32m---> 17\u001b[0;31m   \u001b[0mbatch\u001b[0m \u001b[0;34m=\u001b[0m \u001b[0mit\u001b[0m\u001b[0;34m.\u001b[0m\u001b[0mnext\u001b[0m\u001b[0;34m(\u001b[0m\u001b[0;34m)\u001b[0m\u001b[0;34m\u001b[0m\u001b[0;34m\u001b[0m\u001b[0m\n\u001b[0m\u001b[1;32m     18\u001b[0m   \u001b[0mimage\u001b[0m \u001b[0;34m=\u001b[0m \u001b[0mbatch\u001b[0m\u001b[0;34m[\u001b[0m\u001b[0;36m0\u001b[0m\u001b[0;34m]\u001b[0m\u001b[0;34m.\u001b[0m\u001b[0mastype\u001b[0m\u001b[0;34m(\u001b[0m\u001b[0;34m'uint8'\u001b[0m\u001b[0;34m)\u001b[0m\u001b[0;34m\u001b[0m\u001b[0;34m\u001b[0m\u001b[0m\n\u001b[1;32m     19\u001b[0m \u001b[0;34m\u001b[0m\u001b[0m\n",
            "\u001b[0;32m/usr/local/lib/python3.6/dist-packages/keras_preprocessing/image/iterator.py\u001b[0m in \u001b[0;36mnext\u001b[0;34m(self)\u001b[0m\n\u001b[1;32m    114\u001b[0m         \u001b[0;31m# The transformation of images is not under thread lock\u001b[0m\u001b[0;34m\u001b[0m\u001b[0;34m\u001b[0m\u001b[0;34m\u001b[0m\u001b[0m\n\u001b[1;32m    115\u001b[0m         \u001b[0;31m# so it can be done in parallel\u001b[0m\u001b[0;34m\u001b[0m\u001b[0;34m\u001b[0m\u001b[0;34m\u001b[0m\u001b[0m\n\u001b[0;32m--> 116\u001b[0;31m         \u001b[0;32mreturn\u001b[0m \u001b[0mself\u001b[0m\u001b[0;34m.\u001b[0m\u001b[0m_get_batches_of_transformed_samples\u001b[0m\u001b[0;34m(\u001b[0m\u001b[0mindex_array\u001b[0m\u001b[0;34m)\u001b[0m\u001b[0;34m\u001b[0m\u001b[0;34m\u001b[0m\u001b[0m\n\u001b[0m\u001b[1;32m    117\u001b[0m \u001b[0;34m\u001b[0m\u001b[0m\n\u001b[1;32m    118\u001b[0m     \u001b[0;32mdef\u001b[0m \u001b[0m_get_batches_of_transformed_samples\u001b[0m\u001b[0;34m(\u001b[0m\u001b[0mself\u001b[0m\u001b[0;34m,\u001b[0m \u001b[0mindex_array\u001b[0m\u001b[0;34m)\u001b[0m\u001b[0;34m:\u001b[0m\u001b[0;34m\u001b[0m\u001b[0;34m\u001b[0m\u001b[0m\n",
            "\u001b[0;32m/usr/local/lib/python3.6/dist-packages/keras_preprocessing/image/numpy_array_iterator.py\u001b[0m in \u001b[0;36m_get_batches_of_transformed_samples\u001b[0;34m(self, index_array)\u001b[0m\n\u001b[1;32m    151\u001b[0m             \u001b[0mparams\u001b[0m \u001b[0;34m=\u001b[0m \u001b[0mself\u001b[0m\u001b[0;34m.\u001b[0m\u001b[0mimage_data_generator\u001b[0m\u001b[0;34m.\u001b[0m\u001b[0mget_random_transform\u001b[0m\u001b[0;34m(\u001b[0m\u001b[0mx\u001b[0m\u001b[0;34m.\u001b[0m\u001b[0mshape\u001b[0m\u001b[0;34m)\u001b[0m\u001b[0;34m\u001b[0m\u001b[0;34m\u001b[0m\u001b[0m\n\u001b[1;32m    152\u001b[0m             x = self.image_data_generator.apply_transform(\n\u001b[0;32m--> 153\u001b[0;31m                 x.astype(self.dtype), params)\n\u001b[0m\u001b[1;32m    154\u001b[0m             \u001b[0mx\u001b[0m \u001b[0;34m=\u001b[0m \u001b[0mself\u001b[0m\u001b[0;34m.\u001b[0m\u001b[0mimage_data_generator\u001b[0m\u001b[0;34m.\u001b[0m\u001b[0mstandardize\u001b[0m\u001b[0;34m(\u001b[0m\u001b[0mx\u001b[0m\u001b[0;34m)\u001b[0m\u001b[0;34m\u001b[0m\u001b[0;34m\u001b[0m\u001b[0m\n\u001b[1;32m    155\u001b[0m             \u001b[0mbatch_x\u001b[0m\u001b[0;34m[\u001b[0m\u001b[0mi\u001b[0m\u001b[0;34m]\u001b[0m \u001b[0;34m=\u001b[0m \u001b[0mx\u001b[0m\u001b[0;34m\u001b[0m\u001b[0;34m\u001b[0m\u001b[0m\n",
            "\u001b[0;32m/usr/local/lib/python3.6/dist-packages/keras_preprocessing/image/image_data_generator.py\u001b[0m in \u001b[0;36mapply_transform\u001b[0;34m(self, x, transform_parameters)\u001b[0m\n\u001b[1;32m    868\u001b[0m                                    \u001b[0mfill_mode\u001b[0m\u001b[0;34m=\u001b[0m\u001b[0mself\u001b[0m\u001b[0;34m.\u001b[0m\u001b[0mfill_mode\u001b[0m\u001b[0;34m,\u001b[0m\u001b[0;34m\u001b[0m\u001b[0;34m\u001b[0m\u001b[0m\n\u001b[1;32m    869\u001b[0m                                    \u001b[0mcval\u001b[0m\u001b[0;34m=\u001b[0m\u001b[0mself\u001b[0m\u001b[0;34m.\u001b[0m\u001b[0mcval\u001b[0m\u001b[0;34m,\u001b[0m\u001b[0;34m\u001b[0m\u001b[0;34m\u001b[0m\u001b[0m\n\u001b[0;32m--> 870\u001b[0;31m                                    order=self.interpolation_order)\n\u001b[0m\u001b[1;32m    871\u001b[0m \u001b[0;34m\u001b[0m\u001b[0m\n\u001b[1;32m    872\u001b[0m         \u001b[0;32mif\u001b[0m \u001b[0mtransform_parameters\u001b[0m\u001b[0;34m.\u001b[0m\u001b[0mget\u001b[0m\u001b[0;34m(\u001b[0m\u001b[0;34m'channel_shift_intensity'\u001b[0m\u001b[0;34m)\u001b[0m \u001b[0;32mis\u001b[0m \u001b[0;32mnot\u001b[0m \u001b[0;32mNone\u001b[0m\u001b[0;34m:\u001b[0m\u001b[0;34m\u001b[0m\u001b[0;34m\u001b[0m\u001b[0m\n",
            "\u001b[0;32m/usr/local/lib/python3.6/dist-packages/keras_preprocessing/image/affine_transformations.py\u001b[0m in \u001b[0;36mapply_affine_transform\u001b[0;34m(x, theta, tx, ty, shear, zx, zy, row_axis, col_axis, channel_axis, fill_mode, cval, order)\u001b[0m\n\u001b[1;32m    332\u001b[0m             \u001b[0mmode\u001b[0m\u001b[0;34m=\u001b[0m\u001b[0mfill_mode\u001b[0m\u001b[0;34m,\u001b[0m\u001b[0;34m\u001b[0m\u001b[0;34m\u001b[0m\u001b[0m\n\u001b[1;32m    333\u001b[0m             cval=cval) for x_channel in x]\n\u001b[0;32m--> 334\u001b[0;31m         \u001b[0mx\u001b[0m \u001b[0;34m=\u001b[0m \u001b[0mnp\u001b[0m\u001b[0;34m.\u001b[0m\u001b[0mstack\u001b[0m\u001b[0;34m(\u001b[0m\u001b[0mchannel_images\u001b[0m\u001b[0;34m,\u001b[0m \u001b[0maxis\u001b[0m\u001b[0;34m=\u001b[0m\u001b[0;36m0\u001b[0m\u001b[0;34m)\u001b[0m\u001b[0;34m\u001b[0m\u001b[0;34m\u001b[0m\u001b[0m\n\u001b[0m\u001b[1;32m    335\u001b[0m         \u001b[0mx\u001b[0m \u001b[0;34m=\u001b[0m \u001b[0mnp\u001b[0m\u001b[0;34m.\u001b[0m\u001b[0mrollaxis\u001b[0m\u001b[0;34m(\u001b[0m\u001b[0mx\u001b[0m\u001b[0;34m,\u001b[0m \u001b[0;36m0\u001b[0m\u001b[0;34m,\u001b[0m \u001b[0mchannel_axis\u001b[0m \u001b[0;34m+\u001b[0m \u001b[0;36m1\u001b[0m\u001b[0;34m)\u001b[0m\u001b[0;34m\u001b[0m\u001b[0;34m\u001b[0m\u001b[0m\n\u001b[1;32m    336\u001b[0m     \u001b[0;32mreturn\u001b[0m \u001b[0mx\u001b[0m\u001b[0;34m\u001b[0m\u001b[0;34m\u001b[0m\u001b[0m\n",
            "\u001b[0;32m<__array_function__ internals>\u001b[0m in \u001b[0;36mstack\u001b[0;34m(*args, **kwargs)\u001b[0m\n",
            "\u001b[0;32m/usr/local/lib/python3.6/dist-packages/numpy/core/shape_base.py\u001b[0m in \u001b[0;36mstack\u001b[0;34m(arrays, axis, out)\u001b[0m\n\u001b[1;32m    431\u001b[0m     \u001b[0msl\u001b[0m \u001b[0;34m=\u001b[0m \u001b[0;34m(\u001b[0m\u001b[0mslice\u001b[0m\u001b[0;34m(\u001b[0m\u001b[0;32mNone\u001b[0m\u001b[0;34m)\u001b[0m\u001b[0;34m,\u001b[0m\u001b[0;34m)\u001b[0m \u001b[0;34m*\u001b[0m \u001b[0maxis\u001b[0m \u001b[0;34m+\u001b[0m \u001b[0;34m(\u001b[0m\u001b[0m_nx\u001b[0m\u001b[0;34m.\u001b[0m\u001b[0mnewaxis\u001b[0m\u001b[0;34m,\u001b[0m\u001b[0;34m)\u001b[0m\u001b[0;34m\u001b[0m\u001b[0;34m\u001b[0m\u001b[0m\n\u001b[1;32m    432\u001b[0m     \u001b[0mexpanded_arrays\u001b[0m \u001b[0;34m=\u001b[0m \u001b[0;34m[\u001b[0m\u001b[0marr\u001b[0m\u001b[0;34m[\u001b[0m\u001b[0msl\u001b[0m\u001b[0;34m]\u001b[0m \u001b[0;32mfor\u001b[0m \u001b[0marr\u001b[0m \u001b[0;32min\u001b[0m \u001b[0marrays\u001b[0m\u001b[0;34m]\u001b[0m\u001b[0;34m\u001b[0m\u001b[0;34m\u001b[0m\u001b[0m\n\u001b[0;32m--> 433\u001b[0;31m     \u001b[0;32mreturn\u001b[0m \u001b[0m_nx\u001b[0m\u001b[0;34m.\u001b[0m\u001b[0mconcatenate\u001b[0m\u001b[0;34m(\u001b[0m\u001b[0mexpanded_arrays\u001b[0m\u001b[0;34m,\u001b[0m \u001b[0maxis\u001b[0m\u001b[0;34m=\u001b[0m\u001b[0maxis\u001b[0m\u001b[0;34m,\u001b[0m \u001b[0mout\u001b[0m\u001b[0;34m=\u001b[0m\u001b[0mout\u001b[0m\u001b[0;34m)\u001b[0m\u001b[0;34m\u001b[0m\u001b[0;34m\u001b[0m\u001b[0m\n\u001b[0m\u001b[1;32m    434\u001b[0m \u001b[0;34m\u001b[0m\u001b[0m\n\u001b[1;32m    435\u001b[0m \u001b[0;34m\u001b[0m\u001b[0m\n",
            "\u001b[0;32m<__array_function__ internals>\u001b[0m in \u001b[0;36mconcatenate\u001b[0;34m(*args, **kwargs)\u001b[0m\n",
            "\u001b[0;31mKeyboardInterrupt\u001b[0m: "
          ]
        }
      ]
    },
    {
      "cell_type": "code",
      "metadata": {
        "id": "1KFc8IAs6wFi",
        "colab_type": "code",
        "colab": {}
      },
      "source": [
        "#Saving into DataFrame\n",
        "df_ratio = pd.DataFrame()\n",
        "df_ratio['Images'] = x_train_aug\n",
        "df_ratio['Label'] = y_train_aug_wo\n",
        "\n",
        "df_ratio_wo = pd.DataFrame()\n",
        "df_ratio_wo['Images'] = x_train_aug_wo\n",
        "df_ratio_wo['Label'] = y_train_aug_wo\n",
        "\n"
      ],
      "execution_count": 0,
      "outputs": []
    },
    {
      "cell_type": "code",
      "metadata": {
        "id": "PMDOvRpu7EPj",
        "colab_type": "code",
        "colab": {}
      },
      "source": [
        "#Change the path while saving the dataframe\n",
        "df_ratio.to_csv('/content/Augmented_Images_with_ratio.csv',header=True)\n",
        "df_ratio_wo.to_csv('/content/Augmented_Images_without_ratio',header=True)"
      ],
      "execution_count": 0,
      "outputs": []
    },
    {
      "cell_type": "code",
      "metadata": {
        "id": "YoH8ry7R5Ho9",
        "colab_type": "code",
        "colab": {}
      },
      "source": [
        "c = 0\n",
        "for i in train_images:\n",
        "  img = cv2.imread(os.path.join(images_path,i+'.jpg'))\n",
        "  plt.subplots(1,1)\n",
        "  plt.imshow(img)\n",
        "  plt.show()\n",
        "\n",
        "  if(c > 5):\n",
        "    break\n",
        "  c+=1\n"
      ],
      "execution_count": 0,
      "outputs": []
    }
  ]
}